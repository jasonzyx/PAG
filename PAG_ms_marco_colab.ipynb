{
  "cells": [
    {
      "cell_type": "markdown",
      "id": "fac7282d",
      "metadata": {
        "id": "fac7282d"
      },
      "source": [
        "# PAG End-to-End on MS MARCO Sample\n",
        "This Colab notebook demonstrates environment setup, data preparation, model fine-tuning, and evaluation of the PAG model on a small MS MARCO subset."
      ]
    },
    {
      "cell_type": "code",
      "source": [
        "# run below in terminal\n",
        "# pip install -r requirements.txt\n",
        "# pip install torch torchvision torchaudio --index-url https://download.pytorch.org/whl/cu118\n",
        "# pip install faiss-gpu-cu11"
      ],
      "metadata": {
        "id": "IwCy136S2028"
      },
      "id": "IwCy136S2028",
      "execution_count": null,
      "outputs": []
    }
  ],
  "metadata": {
    "colab": {
      "provenance": [],
      "gpuType": "A100"
    },
    "language_info": {
      "name": "python"
    },
    "kernelspec": {
      "name": "python3",
      "display_name": "Python 3"
    },
    "accelerator": "GPU"
  },
  "nbformat": 4,
  "nbformat_minor": 5
}